{
 "cells": [
  {
   "cell_type": "markdown",
   "metadata": {},
   "source": [
    "## Deliverable 3. Create a Travel Itinerary Map."
   ]
  },
  {
   "cell_type": "code",
   "execution_count": 1,
   "metadata": {},
   "outputs": [],
   "source": [
    "# Dependencies and Setup\n",
    "import pandas as pd\n",
    "import requests\n",
    "import gmaps\n",
    "\n",
    "# Import API key\n",
    "from config import g_key\n",
    "\n",
    "# Configure gmaps\n",
    "gmaps.configure(api_key=g_key)"
   ]
  },
  {
   "cell_type": "code",
   "execution_count": 2,
   "metadata": {},
   "outputs": [
    {
     "data": {
      "text/html": [
       "<div>\n",
       "<style scoped>\n",
       "    .dataframe tbody tr th:only-of-type {\n",
       "        vertical-align: middle;\n",
       "    }\n",
       "\n",
       "    .dataframe tbody tr th {\n",
       "        vertical-align: top;\n",
       "    }\n",
       "\n",
       "    .dataframe thead th {\n",
       "        text-align: right;\n",
       "    }\n",
       "</style>\n",
       "<table border=\"1\" class=\"dataframe\">\n",
       "  <thead>\n",
       "    <tr style=\"text-align: right;\">\n",
       "      <th></th>\n",
       "      <th>City_ID</th>\n",
       "      <th>City</th>\n",
       "      <th>Country</th>\n",
       "      <th>Max Temp</th>\n",
       "      <th>Description</th>\n",
       "      <th>Lat</th>\n",
       "      <th>Lng</th>\n",
       "      <th>Hotel Name</th>\n",
       "    </tr>\n",
       "  </thead>\n",
       "  <tbody>\n",
       "    <tr>\n",
       "      <th>0</th>\n",
       "      <td>3</td>\n",
       "      <td>Cape Town</td>\n",
       "      <td>ZA</td>\n",
       "      <td>61.00</td>\n",
       "      <td>clear sky</td>\n",
       "      <td>-33.9258</td>\n",
       "      <td>18.4232</td>\n",
       "      <td>Southern Sun Waterfront Cape Town</td>\n",
       "    </tr>\n",
       "    <tr>\n",
       "      <th>1</th>\n",
       "      <td>4</td>\n",
       "      <td>Atar</td>\n",
       "      <td>MR</td>\n",
       "      <td>61.23</td>\n",
       "      <td>scattered clouds</td>\n",
       "      <td>20.5169</td>\n",
       "      <td>-13.0499</td>\n",
       "      <td>Oumou Elghoura</td>\n",
       "    </tr>\n",
       "    <tr>\n",
       "      <th>2</th>\n",
       "      <td>5</td>\n",
       "      <td>Hermanus</td>\n",
       "      <td>ZA</td>\n",
       "      <td>62.01</td>\n",
       "      <td>scattered clouds</td>\n",
       "      <td>-34.4187</td>\n",
       "      <td>19.2345</td>\n",
       "      <td>Misty Waves Boutique Hotel</td>\n",
       "    </tr>\n",
       "    <tr>\n",
       "      <th>3</th>\n",
       "      <td>11</td>\n",
       "      <td>Zarand</td>\n",
       "      <td>IR</td>\n",
       "      <td>64.69</td>\n",
       "      <td>few clouds</td>\n",
       "      <td>30.8127</td>\n",
       "      <td>56.5640</td>\n",
       "      <td>فروشگاه لوازم یدکی پراید و تیبا برادران رجبی</td>\n",
       "    </tr>\n",
       "    <tr>\n",
       "      <th>4</th>\n",
       "      <td>12</td>\n",
       "      <td>Mataura</td>\n",
       "      <td>NZ</td>\n",
       "      <td>64.99</td>\n",
       "      <td>clear sky</td>\n",
       "      <td>-46.1927</td>\n",
       "      <td>168.8643</td>\n",
       "      <td>Ellie's Villa</td>\n",
       "    </tr>\n",
       "  </tbody>\n",
       "</table>\n",
       "</div>"
      ],
      "text/plain": [
       "   City_ID       City Country  Max Temp       Description      Lat       Lng  \\\n",
       "0        3  Cape Town      ZA     61.00         clear sky -33.9258   18.4232   \n",
       "1        4       Atar      MR     61.23  scattered clouds  20.5169  -13.0499   \n",
       "2        5   Hermanus      ZA     62.01  scattered clouds -34.4187   19.2345   \n",
       "3       11     Zarand      IR     64.69        few clouds  30.8127   56.5640   \n",
       "4       12    Mataura      NZ     64.99         clear sky -46.1927  168.8643   \n",
       "\n",
       "                                     Hotel Name  \n",
       "0             Southern Sun Waterfront Cape Town  \n",
       "1                                Oumou Elghoura  \n",
       "2                    Misty Waves Boutique Hotel  \n",
       "3  فروشگاه لوازم یدکی پراید و تیبا برادران رجبی  \n",
       "4                                 Ellie's Villa  "
      ]
     },
     "execution_count": 2,
     "metadata": {},
     "output_type": "execute_result"
    }
   ],
   "source": [
    "# 1. Read the WeatherPy_vacation.csv into a DataFrame.\n",
    "vacation_df = pd.read_csv(\"output_data_file.csv\")\n",
    "vacation_df.head()"
   ]
  },
  {
   "cell_type": "code",
   "execution_count": 3,
   "metadata": {},
   "outputs": [
    {
     "data": {
      "text/html": [
       "<div>\n",
       "<style scoped>\n",
       "    .dataframe tbody tr th:only-of-type {\n",
       "        vertical-align: middle;\n",
       "    }\n",
       "\n",
       "    .dataframe tbody tr th {\n",
       "        vertical-align: top;\n",
       "    }\n",
       "\n",
       "    .dataframe thead th {\n",
       "        text-align: right;\n",
       "    }\n",
       "</style>\n",
       "<table border=\"1\" class=\"dataframe\">\n",
       "  <thead>\n",
       "    <tr style=\"text-align: right;\">\n",
       "      <th></th>\n",
       "      <th>Lat</th>\n",
       "      <th>Lng</th>\n",
       "    </tr>\n",
       "  </thead>\n",
       "  <tbody>\n",
       "    <tr>\n",
       "      <th>0</th>\n",
       "      <td>-33.9258</td>\n",
       "      <td>18.4232</td>\n",
       "    </tr>\n",
       "    <tr>\n",
       "      <th>1</th>\n",
       "      <td>20.5169</td>\n",
       "      <td>-13.0499</td>\n",
       "    </tr>\n",
       "    <tr>\n",
       "      <th>2</th>\n",
       "      <td>-34.4187</td>\n",
       "      <td>19.2345</td>\n",
       "    </tr>\n",
       "    <tr>\n",
       "      <th>3</th>\n",
       "      <td>30.8127</td>\n",
       "      <td>56.5640</td>\n",
       "    </tr>\n",
       "    <tr>\n",
       "      <th>4</th>\n",
       "      <td>-46.1927</td>\n",
       "      <td>168.8643</td>\n",
       "    </tr>\n",
       "    <tr>\n",
       "      <th>...</th>\n",
       "      <td>...</td>\n",
       "      <td>...</td>\n",
       "    </tr>\n",
       "    <tr>\n",
       "      <th>113</th>\n",
       "      <td>36.6167</td>\n",
       "      <td>101.7667</td>\n",
       "    </tr>\n",
       "    <tr>\n",
       "      <th>114</th>\n",
       "      <td>-13.7333</td>\n",
       "      <td>15.0667</td>\n",
       "    </tr>\n",
       "    <tr>\n",
       "      <th>115</th>\n",
       "      <td>38.4167</td>\n",
       "      <td>77.2406</td>\n",
       "    </tr>\n",
       "    <tr>\n",
       "      <th>116</th>\n",
       "      <td>-41.1500</td>\n",
       "      <td>146.1667</td>\n",
       "    </tr>\n",
       "    <tr>\n",
       "      <th>117</th>\n",
       "      <td>31.5333</td>\n",
       "      <td>119.4833</td>\n",
       "    </tr>\n",
       "  </tbody>\n",
       "</table>\n",
       "<p>118 rows × 2 columns</p>\n",
       "</div>"
      ],
      "text/plain": [
       "         Lat       Lng\n",
       "0   -33.9258   18.4232\n",
       "1    20.5169  -13.0499\n",
       "2   -34.4187   19.2345\n",
       "3    30.8127   56.5640\n",
       "4   -46.1927  168.8643\n",
       "..       ...       ...\n",
       "113  36.6167  101.7667\n",
       "114 -13.7333   15.0667\n",
       "115  38.4167   77.2406\n",
       "116 -41.1500  146.1667\n",
       "117  31.5333  119.4833\n",
       "\n",
       "[118 rows x 2 columns]"
      ]
     },
     "execution_count": 3,
     "metadata": {},
     "output_type": "execute_result"
    }
   ],
   "source": [
    "# 2. Using the template add the city name, the country code, the weather description and maximum temperature for the city.\n",
    "info_box_template = \"\"\"\n",
    "<dl>\n",
    "<dt>Hotel Name</dt><dd>{Hotel Name}</dd>\n",
    "<dt>City</dt><dd>{City}</dd>\n",
    "<dt>Country</dt><dd>{Country}</dd>\n",
    "<dt>Description</dt><dd>{Description}</dd>\n",
    "<dt>Max Temp</dt><dd>{Max Temp} °F</dd>\n",
    "</dl>\n",
    "\"\"\"\n",
    "\n",
    "# 3a. Get the data from each row and add it to the formatting template and store the data in a list.\n",
    "vacation_info = [info_box_template.format(**row) for index, row in vacation_df.iterrows()]\n",
    "\n",
    "# 3b. Get the latitude and longitude from each row and store in a new DataFrame.\n",
    "locations = vacation_df[[\"Lat\", \"Lng\"]]\n",
    "locations"
   ]
  },
  {
   "cell_type": "code",
   "execution_count": 4,
   "metadata": {},
   "outputs": [
    {
     "data": {
      "application/vnd.jupyter.widget-view+json": {
       "model_id": "96ff6fcd838e4d6d8869656dc67e4fa5",
       "version_major": 2,
       "version_minor": 0
      },
      "text/plain": [
       "Figure(layout=FigureLayout(height='420px'))"
      ]
     },
     "metadata": {},
     "output_type": "display_data"
    }
   ],
   "source": [
    "# 4a. Add a marker layer for each city to the map.\n",
    "#max_temp = vacation_df[\"Max Temp\"]\n",
    "fig = gmaps.figure(center=(30.0, 31.0), zoom_level=1.5)\n",
    "#marker_layer = gmaps.marker_layer(locations, info_box_content=vacation_info)\n",
    "          \n",
    "marker_layer = gmaps.marker_layer(locations, info_box_content=vacation_info)\n",
    "\n",
    "fig.add_layer(marker_layer)\n",
    "# 4b. Display the figure\n",
    "\n",
    "fig"
   ]
  },
  {
   "cell_type": "code",
   "execution_count": 5,
   "metadata": {},
   "outputs": [
    {
     "name": "stdout",
     "output_type": "stream",
     "text": [
      "    City_ID       City Country  Max Temp Description      Lat      Lng  \\\n",
      "16       68  Watertown      US      50.0   clear sky  42.3709 -71.1828   \n",
      "\n",
      "                                           Hotel Name  \n",
      "16  Super 8 by Wyndham Watertown/Cambridge/Boston ...  \n",
      "    City_ID       City Country  Max Temp Description      Lat      Lng  \\\n",
      "16       68  Watertown      US      50.0   clear sky  42.3709 -71.1828   \n",
      "\n",
      "                                           Hotel Name  \n",
      "16  Super 8 by Wyndham Watertown/Cambridge/Boston ...  \n",
      "    City_ID    City Country  Max Temp Description      Lat     Lng  \\\n",
      "18       88  Bethel      US      53.6  few clouds  41.3712 -73.414   \n",
      "\n",
      "                       Hotel Name  \n",
      "18  Courtyard by Marriott Danbury  \n",
      "    City_ID  City Country  Max Temp Description      Lat      Lng  \\\n",
      "43      238  Mayo      US      59.0   clear sky  38.8876 -76.5119   \n",
      "\n",
      "                              Hotel Name  \n",
      "43  Resorts Resource Group International  \n",
      "    City_ID     City Country  Max Temp Description      Lat      Lng  \\\n",
      "95      544  Bon Air      US      57.0   clear sky  37.5249 -77.5578   \n",
      "\n",
      "                                          Hotel Name  \n",
      "95  DoubleTree by Hilton Hotel Richmond - Midlothian  \n"
     ]
    }
   ],
   "source": [
    "# From the map above pick 4 cities and create a vacation itinerary route to travel between the four cities. \n",
    "# 5. Create DataFrames for each city by filtering the 'vacation_df' using the loc method. \n",
    "# Hint: The starting and ending city should be the same city.\n",
    "#referred_cities_df = city_data_df.loc[(city_data_df[\"Max Temp\"] <= max_temp) & \\\n",
    "                                      # (city_data_df[\"Max Temp\"] >= min_temp)]\n",
    "vacation_start = vacation_df.loc[(vacation_df[\"City\"]==\"Watertown\")]\n",
    "print(vacation_start)\n",
    "vacation_end = vacation_df.loc[(vacation_df[\"City\"]==\"Watertown\")]\n",
    "print(vacation_end)\n",
    "vacation_stop1 = vacation_df.loc[(vacation_df[\"City\"]==\"Bethel\")]\n",
    "print(vacation_stop1)\n",
    "vacation_stop2 = vacation_df.loc[(vacation_df[\"City\"]==\"Mayo\")] \n",
    "print(vacation_stop2)\n",
    "vacation_stop3 = vacation_df.loc[(vacation_df[\"City\"]==\"Bon Air\")] \n",
    "print(vacation_stop3)"
   ]
  },
  {
   "cell_type": "code",
   "execution_count": 6,
   "metadata": {},
   "outputs": [],
   "source": [
    "# 6. Get the latitude-longitude pairs as tuples from each city DataFrame using the to_numpy function and list indexing.\n",
    "\n",
    "#start = vacation_start.iloc[0,5:7].to_numpy()\n",
    "    \n",
    "start =  vacation_start.iloc[0,5:7].to_numpy()\n",
    "end = vacation_end.iloc[0,5:7].to_numpy()\n",
    "stop1 = vacation_stop1.iloc[0,5:7].to_numpy()\n",
    "stop2 = vacation_stop2.iloc[0,5:7].to_numpy()\n",
    "stop3 = vacation_stop3.iloc[0,5:7].to_numpy()"
   ]
  },
  {
   "cell_type": "code",
   "execution_count": 7,
   "metadata": {
    "scrolled": true
   },
   "outputs": [
    {
     "name": "stdout",
     "output_type": "stream",
     "text": [
      "Directions(data_bounds=[(37.5249, -77.5578), (42.3709, -71.1828)], end=(42.3709, -71.1828), start=(42.3709, -71.1828), stroke_color='#0088ff', waypoints=[(41.3712, -73.414), (38.8876, -76.5119), (37.5249, -77.5578)])\n"
     ]
    }
   ],
   "source": [
    "# 7. Create a direction layer map using the start and end latitude-longitude pairs,\n",
    "# and stop1, stop2, and stop3 as the waypoints. The travel_mode should be \"DRIVING\", \"BICYCLING\", or \"WALKING\".\n",
    "\n",
    "\n",
    "fig = gmaps.figure(center=(39.0, -120.0),zoom_level=6)\n",
    "Watertown = start\n",
    "Bethel = stop1\n",
    "Mayo = stop2 \n",
    "Bon_Air = stop3\n",
    "roundtrip = gmaps.directions_layer(Watertown ,Watertown, waypoints=[Bethel,Mayo,Bon_Air], travel_mode=\"DRIVING\")  \n",
    "\n",
    "print(roundtrip)"
   ]
  },
  {
   "cell_type": "code",
   "execution_count": 8,
   "metadata": {},
   "outputs": [
    {
     "data": {
      "text/html": [
       "<div>\n",
       "<style scoped>\n",
       "    .dataframe tbody tr th:only-of-type {\n",
       "        vertical-align: middle;\n",
       "    }\n",
       "\n",
       "    .dataframe tbody tr th {\n",
       "        vertical-align: top;\n",
       "    }\n",
       "\n",
       "    .dataframe thead th {\n",
       "        text-align: right;\n",
       "    }\n",
       "</style>\n",
       "<table border=\"1\" class=\"dataframe\">\n",
       "  <thead>\n",
       "    <tr style=\"text-align: right;\">\n",
       "      <th></th>\n",
       "      <th>City_ID</th>\n",
       "      <th>City</th>\n",
       "      <th>Country</th>\n",
       "      <th>Max Temp</th>\n",
       "      <th>Description</th>\n",
       "      <th>Lat</th>\n",
       "      <th>Lng</th>\n",
       "      <th>Hotel Name</th>\n",
       "    </tr>\n",
       "  </thead>\n",
       "  <tbody>\n",
       "    <tr>\n",
       "      <th>0</th>\n",
       "      <td>68</td>\n",
       "      <td>Watertown</td>\n",
       "      <td>US</td>\n",
       "      <td>50.0</td>\n",
       "      <td>clear sky</td>\n",
       "      <td>42.3709</td>\n",
       "      <td>-71.1828</td>\n",
       "      <td>Super 8 by Wyndham Watertown/Cambridge/Boston ...</td>\n",
       "    </tr>\n",
       "    <tr>\n",
       "      <th>1</th>\n",
       "      <td>88</td>\n",
       "      <td>Bethel</td>\n",
       "      <td>US</td>\n",
       "      <td>53.6</td>\n",
       "      <td>few clouds</td>\n",
       "      <td>41.3712</td>\n",
       "      <td>-73.4140</td>\n",
       "      <td>Courtyard by Marriott Danbury</td>\n",
       "    </tr>\n",
       "    <tr>\n",
       "      <th>2</th>\n",
       "      <td>238</td>\n",
       "      <td>Mayo</td>\n",
       "      <td>US</td>\n",
       "      <td>59.0</td>\n",
       "      <td>clear sky</td>\n",
       "      <td>38.8876</td>\n",
       "      <td>-76.5119</td>\n",
       "      <td>Resorts Resource Group International</td>\n",
       "    </tr>\n",
       "    <tr>\n",
       "      <th>3</th>\n",
       "      <td>544</td>\n",
       "      <td>Bon Air</td>\n",
       "      <td>US</td>\n",
       "      <td>57.0</td>\n",
       "      <td>clear sky</td>\n",
       "      <td>37.5249</td>\n",
       "      <td>-77.5578</td>\n",
       "      <td>DoubleTree by Hilton Hotel Richmond - Midlothian</td>\n",
       "    </tr>\n",
       "  </tbody>\n",
       "</table>\n",
       "</div>"
      ],
      "text/plain": [
       "   City_ID       City Country  Max Temp Description      Lat      Lng  \\\n",
       "0       68  Watertown      US      50.0   clear sky  42.3709 -71.1828   \n",
       "1       88     Bethel      US      53.6  few clouds  41.3712 -73.4140   \n",
       "2      238       Mayo      US      59.0   clear sky  38.8876 -76.5119   \n",
       "3      544    Bon Air      US      57.0   clear sky  37.5249 -77.5578   \n",
       "\n",
       "                                          Hotel Name  \n",
       "0  Super 8 by Wyndham Watertown/Cambridge/Boston ...  \n",
       "1                      Courtyard by Marriott Danbury  \n",
       "2               Resorts Resource Group International  \n",
       "3   DoubleTree by Hilton Hotel Richmond - Midlothian  "
      ]
     },
     "execution_count": 8,
     "metadata": {},
     "output_type": "execute_result"
    }
   ],
   "source": [
    "# 8. To create a marker layer map between the four cities.\n",
    "#  Combine the four city DataFrames into one DataFrame using the concat() function.\n",
    "itinerary_df = pd.concat([vacation_start,vacation_stop1,vacation_stop2,vacation_stop3],ignore_index=True)\n",
    "itinerary_df"
   ]
  },
  {
   "cell_type": "code",
   "execution_count": 10,
   "metadata": {},
   "outputs": [
    {
     "name": "stdout",
     "output_type": "stream",
     "text": [
      "['\\n<dl>\\n<dt>Hotel Name</dt><dd>Super 8 by Wyndham Watertown/Cambridge/Boston Area </dd>\\n<dt>City</dt><dd>Watertown </dd>\\n<dt>Country</dt><dd>US </dd>\\n<dt>Description</dt><dd>clear sky </dd>\\n<dt>Max Temp</dt><dd>50.0 °F</dd>\\n</dl>\\n', '\\n<dl>\\n<dt>Hotel Name</dt><dd>Courtyard by Marriott Danbury </dd>\\n<dt>City</dt><dd>Bethel </dd>\\n<dt>Country</dt><dd>US </dd>\\n<dt>Description</dt><dd>few clouds </dd>\\n<dt>Max Temp</dt><dd>53.6 °F</dd>\\n</dl>\\n', '\\n<dl>\\n<dt>Hotel Name</dt><dd>Resorts Resource Group International </dd>\\n<dt>City</dt><dd>Mayo </dd>\\n<dt>Country</dt><dd>US </dd>\\n<dt>Description</dt><dd>clear sky </dd>\\n<dt>Max Temp</dt><dd>59.0 °F</dd>\\n</dl>\\n', '\\n<dl>\\n<dt>Hotel Name</dt><dd>DoubleTree by Hilton Hotel Richmond - Midlothian </dd>\\n<dt>City</dt><dd>Bon Air </dd>\\n<dt>Country</dt><dd>US </dd>\\n<dt>Description</dt><dd>clear sky </dd>\\n<dt>Max Temp</dt><dd>57.0 °F</dd>\\n</dl>\\n']\n",
      "       Lat      Lng\n",
      "0  42.3709 -71.1828\n",
      "1  41.3712 -73.4140\n",
      "2  38.8876 -76.5119\n",
      "3  37.5249 -77.5578\n"
     ]
    }
   ],
   "source": [
    "# 9 Using the template add city name, the country code, the weather description and maximum temperature for the city. \n",
    "#info_box_template = \"\"\"\n",
    "\n",
    "#\"\"\"\n",
    "info_box_template = \"\"\"\n",
    "<dl>\n",
    "<dt>Hotel Name</dt><dd>{Hotel Name} </dd>\n",
    "<dt>City</dt><dd>{City} </dd>\n",
    "<dt>Country</dt><dd>{Country} </dd>\n",
    "<dt>Description</dt><dd>{Description} </dd>\n",
    "<dt>Max Temp</dt><dd>{Max Temp} °F</dd>\n",
    "</dl>\n",
    "\"\"\"\n",
    "# 10a Get the data from each row and add it to the formatting template and store the data in a list.\n",
    "hotel_info = [info_box_template.format(**row) for index, row in itinerary_df.iterrows()]\n",
    "print(hotel_info)\n",
    "\n",
    "# 10b. Get the latitude and longitude from each row and store in a new DataFrame.\n",
    "locations = itinerary_df[[\"Lat\",\"Lng\"]]\n",
    "print(locations)"
   ]
  },
  {
   "cell_type": "code",
   "execution_count": 9,
   "metadata": {},
   "outputs": [
    {
     "data": {
      "application/vnd.jupyter.widget-view+json": {
       "model_id": "2b402eeeb3fb4aa3af62708d3d9b110e",
       "version_major": 2,
       "version_minor": 0
      },
      "text/plain": [
       "Figure(layout=FigureLayout(height='420px'))"
      ]
     },
     "metadata": {},
     "output_type": "display_data"
    }
   ],
   "source": [
    "fig = gmaps.figure(center=(39.0, -120.0),zoom_level=6)\n",
    "roundtrip = gmaps.directions_layer(Watertown ,Watertown, waypoints=[Bethel,Mayo,Bon_Air], travel_mode=\"DRIVING\",show_markers=False)  \n",
    "fig.add_layer(roundtrip)\n",
    "\n",
    "#fig = gmaps.figure(center=(39.0, -120.0),zoom_level=6)\n",
    "#marker_layer1 = gmaps.marker_layer(locations, info_box_content=hotel_info)\n",
    "\n",
    "#fig.add_layer(roundtrip)\n",
    "#fig.add_layer(marker_layer1)\n",
    "# 11a. Add a marker layer for each city to the map.\n",
    "#marker_layer2 = gmaps.marker_layer(locations, info_box_content = hotel_info)\n",
    "#fig.add_layer(roundtrip)\n",
    "\n",
    "#fig.add_layer(marker_layer2)\n",
    "info_box_template = \"\"\"\n",
    "<dl>\n",
    "<dt>Hotel Name</dt><dd>{Hotel Name} </dd>\n",
    "<dt>City</dt><dd>{City} </dd>\n",
    "<dt>Country</dt><dd>{Country} </dd>\n",
    "<dt>Description</dt><dd>{Description} </dd>\n",
    "<dt>Max Temp</dt><dd>{Max Temp} °F</dd>\n",
    "</dl>\n",
    "\"\"\"\n",
    "# 10a Get the data from each row and add it to the formatting template and store the data in a list.\n",
    "hotel_info = [info_box_template.format(**row) for index, row in itinerary_df.iterrows()]\n",
    "#print(hotel_info)\n",
    "\n",
    "# 10b. Get the latitude and longitude from each row and store in a new DataFrame.\n",
    "locations = itinerary_df[[\"Lat\",\"Lng\"]]\n",
    "marker_layer2 = gmaps.marker_layer(locations, info_box_content = hotel_info)\n",
    "fig.add_layer(marker_layer2)\n",
    "\n",
    "#print(locations)\n",
    "# 11b. Display the figure\n",
    "fig"
   ]
  },
  {
   "cell_type": "code",
   "execution_count": null,
   "metadata": {},
   "outputs": [],
   "source": [
    "fig."
   ]
  }
 ],
 "metadata": {
  "kernelspec": {
   "display_name": "Python 3",
   "language": "python",
   "name": "python3"
  },
  "language_info": {
   "codemirror_mode": {
    "name": "ipython",
    "version": 3
   },
   "file_extension": ".py",
   "mimetype": "text/x-python",
   "name": "python",
   "nbconvert_exporter": "python",
   "pygments_lexer": "ipython3",
   "version": "3.8.5"
  },
  "latex_envs": {
   "LaTeX_envs_menu_present": true,
   "autoclose": false,
   "autocomplete": true,
   "bibliofile": "biblio.bib",
   "cite_by": "apalike",
   "current_citInitial": 1,
   "eqLabelWithNumbers": true,
   "eqNumInitial": 1,
   "hotkeys": {
    "equation": "Ctrl-E",
    "itemize": "Ctrl-I"
   },
   "labels_anchors": false,
   "latex_user_defs": false,
   "report_style_numbering": false,
   "user_envs_cfg": false
  }
 },
 "nbformat": 4,
 "nbformat_minor": 2
}
